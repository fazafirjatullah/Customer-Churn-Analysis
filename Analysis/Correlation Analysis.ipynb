{
 "cells": [
  {
   "cell_type": "code",
   "execution_count": null,
   "id": "eeb3d74f",
   "metadata": {},
   "outputs": [
    {
     "name": "stdout",
     "output_type": "stream",
     "text": [
      "  user_id  used_qris  used_voucher  used_topup  used_transfer  churn\n",
      "0   U0000          8             9           6             10  False\n",
      "1   U0001         10             8           5              1  False\n",
      "2   U0002          1             6          13              4  False\n",
      "3   U0003          8             4           6             10  False\n",
      "4   U0004         17             1          10              7  False\n"
     ]
    }
   ],
   "source": [
    "import pandas as pd\n",
    "\n",
    "# Load file usage.csv\n",
    "df = pd.read_csv('/Users/fazafirjatullah/Documents/FAZA/Data Project/GPT/Customer Churn/usage.csv')\n",
    "\n",
    "# Tampilkan 5 baris pertama\n",
    "print(df.head())"
   ]
  },
  {
   "cell_type": "code",
   "execution_count": 13,
   "id": "1295d011",
   "metadata": {},
   "outputs": [],
   "source": [
    "df['churn_numeric'] = df['churn'].astype(int)"
   ]
  },
  {
   "cell_type": "code",
   "execution_count": 16,
   "id": "b2327a5f",
   "metadata": {},
   "outputs": [
    {
     "name": "stdout",
     "output_type": "stream",
     "text": [
      "  user_id  used_qris  used_voucher  used_topup  used_transfer  churn  \\\n",
      "0   U0000          8             9           6             10  False   \n",
      "1   U0001         10             8           5              1  False   \n",
      "2   U0002          1             6          13              4  False   \n",
      "3   U0003          8             4           6             10  False   \n",
      "4   U0004         17             1          10              7  False   \n",
      "\n",
      "   churn_numeric  \n",
      "0              0  \n",
      "1              0  \n",
      "2              0  \n",
      "3              0  \n",
      "4              0  \n"
     ]
    }
   ],
   "source": [
    "print(df.head())"
   ]
  },
  {
   "cell_type": "code",
   "execution_count": 48,
   "id": "b84955b2",
   "metadata": {},
   "outputs": [],
   "source": [
    "# Buat list kosong untuk menyimpan hasil\n",
    "hasil_korelasi = []"
   ]
  },
  {
   "cell_type": "code",
   "execution_count": 50,
   "id": "136420ea",
   "metadata": {},
   "outputs": [
    {
     "name": "stdout",
     "output_type": "stream",
     "text": [
      "Korelasi antara used_qris dan churn: 0.089\n",
      "Korelasi antara used_topup dan churn: -0.054\n",
      "Korelasi antara used_transfer dan churn: 0.012\n",
      "Korelasi antara used_voucher dan churn: 0.092\n"
     ]
    }
   ],
   "source": [
    "# Daftar kolom fitur yang ingin dikorelasikan\n",
    "fitur = ['used_qris', 'used_topup', 'used_transfer', 'used_voucher']\n",
    "\n",
    "# Loop hitung korelasi ke churn_numeric\n",
    "for f in fitur:\n",
    "    corr = df[f].corr(df['churn_numeric'])\n",
    "    print(f\"Korelasi antara {f} dan churn: {corr:.3f}\")\n",
    "    hasil_korelasi.append({'Fitur': f, 'Korelasi terhadap churn': round(corr, 3)})"
   ]
  },
  {
   "cell_type": "code",
   "execution_count": null,
   "id": "5fa07bc3",
   "metadata": {},
   "outputs": [
    {
     "name": "stdout",
     "output_type": "stream",
     "text": [
      "           Fitur  Korelasi terhadap churn\n",
      "0      used_qris                    0.089\n",
      "1     used_topup                   -0.054\n",
      "2  used_transfer                    0.012\n",
      "3   used_voucher                    0.092\n",
      "           Fitur  Korelasi terhadap churn\n",
      "0      used_qris                    0.089\n",
      "1     used_topup                   -0.054\n",
      "2  used_transfer                    0.012\n",
      "3   used_voucher                    0.092\n"
     ]
    }
   ],
   "source": [
    "korelasi_df = pd.DataFrame(hasil_korelasi)\n",
    "\n",
    "# Simpan ke file CSV\n",
    "korelasi_df.to_csv('/Users/fazafirjatullah/Documents/FAZA/Data Project/GPT/Customer Churn/korelasi_fitur_churn.csv', index=False, sep=';', decimal='.')\n",
    "# Tampilkan isi file sebagai konfirmasi\n",
    "print(korelasi_df)"
   ]
  }
 ],
 "metadata": {
  "kernelspec": {
   "display_name": "Python 3",
   "language": "python",
   "name": "python3"
  },
  "language_info": {
   "codemirror_mode": {
    "name": "ipython",
    "version": 3
   },
   "file_extension": ".py",
   "mimetype": "text/x-python",
   "name": "python",
   "nbconvert_exporter": "python",
   "pygments_lexer": "ipython3",
   "version": "3.undefined.undefined"
  }
 },
 "nbformat": 4,
 "nbformat_minor": 5
}
